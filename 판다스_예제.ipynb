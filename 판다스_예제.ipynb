{
  "nbformat": 4,
  "nbformat_minor": 0,
  "metadata": {
    "colab": {
      "name": "판다스 예제",
      "provenance": [],
      "collapsed_sections": [],
      "authorship_tag": "ABX9TyMrZPYYayD5WlQifWNe9zkU",
      "include_colab_link": true
    },
    "kernelspec": {
      "name": "python3",
      "display_name": "Python 3"
    }
  },
  "cells": [
    {
      "cell_type": "markdown",
      "metadata": {
        "id": "view-in-github",
        "colab_type": "text"
      },
      "source": [
        "<a href=\"https://colab.research.google.com/github/ryu-jihye/finance_python/blob/main/%ED%8C%90%EB%8B%A4%EC%8A%A4_%EC%98%88%EC%A0%9C.ipynb\" target=\"_parent\"><img src=\"https://colab.research.google.com/assets/colab-badge.svg\" alt=\"Open In Colab\"/></a>"
      ]
    },
    {
      "cell_type": "code",
      "metadata": {
        "id": "bMERVHbZ-D2Y"
      },
      "source": [
        "import pandas as pd  "
      ],
      "execution_count": 1,
      "outputs": []
    },
    {
      "cell_type": "code",
      "metadata": {
        "id": "3olWxmsj-HGl"
      },
      "source": [
        "df = pd.DataFrame({\r\n",
        "    \"name\": [\"Bob\", \"Alex\", \"John\"],\r\n",
        "    \"age\": [60, 25, 33]\r\n",
        "})"
      ],
      "execution_count": 5,
      "outputs": []
    },
    {
      "cell_type": "code",
      "metadata": {
        "colab": {
          "base_uri": "https://localhost:8080/"
        },
        "id": "BCAbaGw9-xri",
        "outputId": "6a99c068-6ad0-4cda-8900-b18fb52144ea"
      },
      "source": [
        "print(df.index)"
      ],
      "execution_count": 10,
      "outputs": [
        {
          "output_type": "stream",
          "text": [
            "RangeIndex(start=0, stop=3, step=1)\n"
          ],
          "name": "stdout"
        }
      ]
    },
    {
      "cell_type": "code",
      "metadata": {
        "id": "IjYxVevt-i5P"
      },
      "source": [
        "df[\"age_plus_one\"] = df[\"age\"] + 1\r\n",
        "df[\"age_times_two\"] = 2 * df[\"age\"]\r\n",
        "df[\"age_squared\"] = df[\"age\"] * df[\"age\"]\r\n",
        "df[\"over_30\"] = (df[\"age\"] > 30)"
      ],
      "execution_count": 8,
      "outputs": []
    },
    {
      "cell_type": "code",
      "metadata": {
        "id": "IygB_wsX-nDM"
      },
      "source": [
        "total_age = df[\"age\"].sum()\r\n",
        "median_age = df[\"age\"].quantile(0.5)\r\n",
        "df_below50 = df[df[\"age\"] < 50]\r\n",
        "df[\"age_squared\"] = df[\"age\"].apply(lambda x: x * x)"
      ],
      "execution_count": 9,
      "outputs": []
    },
    {
      "cell_type": "code",
      "metadata": {
        "colab": {
          "base_uri": "https://localhost:8080/"
        },
        "id": "BdNZbq2O-tFP",
        "outputId": "e05666ac-e998-4805-8372-559b5dc6366d"
      },
      "source": [
        "df_w_name_as_ind = df.set_index(\"name\")\r\n",
        "print(df_w_name_as_ind.index)"
      ],
      "execution_count": 11,
      "outputs": [
        {
          "output_type": "stream",
          "text": [
            "Index(['Bob', 'Alex', 'John'], dtype='object', name='name')\n"
          ],
          "name": "stdout"
        }
      ]
    },
    {
      "cell_type": "code",
      "metadata": {
        "id": "XxhnAIb7_JUz"
      },
      "source": [
        ""
      ],
      "execution_count": null,
      "outputs": []
    }
  ]
}